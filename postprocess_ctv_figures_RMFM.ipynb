{
 "cells": [
  {
   "cell_type": "code",
   "execution_count": null,
   "metadata": {},
   "outputs": [],
   "source": [
    "import os.path\n",
    "import re\n",
    "import numpy as np\n",
    "import matplotlib as mpl\n",
    "import matplotlib.pyplot as plt\n",
    "from matplotlib.animation import FuncAnimation\n",
    "import yt\n",
    "import glob\n",
    "import pandas as pd\n",
    "import math\n",
    "import scipy.integrate as integrate\n",
    "from matplotlib.backends.backend_pdf import PdfPages\n",
    "mpl.rcParams['figure.dpi'] = 300"
   ]
  },
  {
   "cell_type": "code",
   "execution_count": null,
   "metadata": {},
   "outputs": [],
   "source": [
    "def UExact(x,y,t,u0,v0,alpha,beta,A,nu):\n",
    "    u = u0 - A * beta * math.cos(alpha * (x - u0 * t)) * math.sin(beta * (y - v0 * t)) * math.exp(-(alpha ** 2 + beta ** 2) * nu * t);\n",
    "    return u\n"
   ]
  },
  {
   "cell_type": "code",
   "execution_count": null,
   "metadata": {},
   "outputs": [],
   "source": [
    "def VExact(x,y,t,u0,v0,alpha,beta,A,nu):\n",
    "    v = v0 + A * alpha * math.sin(alpha * (x - u0 * t)) * math.cos(beta * (y - v0 * t)) * math.exp(-(alpha ** 2 + beta ** 2) * nu * t);\n",
    "    return v\n"
   ]
  },
  {
   "cell_type": "code",
   "execution_count": null,
   "metadata": {},
   "outputs": [],
   "source": [
    "def natural_sort(l):\n",
    "    convert = lambda text: int(text) if text.isdigit() else text.lower()\n",
    "    alphanum_key = lambda key: [convert(c) for c in re.split(\"([0-9]+)\", key)]\n",
    "    return sorted(l, key=alphanum_key)"
   ]
  },
  {
   "cell_type": "code",
   "execution_count": null,
   "metadata": {},
   "outputs": [],
   "source": [
    "color_list = [\n",
    "    \"#EE2E2F\",\n",
    "    \"#008C48\",\n",
    "    \"#185AA9\",\n",
    "    \"#F47D23\",\n",
    "    \"#662C91\",\n",
    "    \"#A21D21\",\n",
    "    \"#B43894\",\n",
    "    \"#010202\",\n",
    "]\n",
    "linestyle_list = [\n",
    "    \"solid\",\n",
    "    \"dashed\",\n",
    "    \"dotted\",\n",
    "    \"dashdot\"\n",
    "]\n",
    "linewidth_list = [\n",
    "    1.5,\n",
    "    0.5\n",
    "]"
   ]
  },
  {
   "cell_type": "code",
   "execution_count": null,
   "metadata": {},
   "outputs": [],
   "source": [
    "fields = [\"x\",\"y\",\"z\",\"velocityy\"]"
   ]
  },
  {
   "cell_type": "code",
   "execution_count": null,
   "metadata": {},
   "outputs": [],
   "source": [
    "def postprocess_dist(case,idx,rootdir,methods,grid_types,grid_sizes,\n",
    "                ax,line_styles,line_colors,line_widths,plotting,line_configuration):\n",
    "    \n",
    "    i_method = -1\n",
    "    for method in methods:\n",
    "        i_method += 1\n",
    "        i_grid_type = -1\n",
    "        for grid_type in grid_types:\n",
    "            i_grid_type += 1\n",
    "            i_grid_size = -1\n",
    "            for grid_size in grid_sizes:\n",
    "                i_grid_size += 1\n",
    "\n",
    "                case_dir = os.path.join(root_dir, method, grid_type, case, f'nx_{grid_size}')\n",
    "                print(case_dir)\n",
    "\n",
    "                # Load plt files\n",
    "                plt_files = natural_sort(glob.glob(os.path.join(case_dir, \"plt*\")))\n",
    "                \n",
    "                ds = yt.load(plt_files[idx])\n",
    "                ray = ds.r[0:,1,0]\n",
    "                srt = np.argsort(ray[\"x\"])\n",
    "                df = pd.DataFrame({f: np.array(ray[f][srt]) for f in [\"x\",\"velocityy\"]})\n",
    "                t = ds.current_time.value.flatten()[0]\n",
    "                df[\"time\"] = t\n",
    "                df[\"dx\"] = [ray.fwidth[i][0].value.flatten()[0] for i in range(len(df[\"x\"].values))]\n",
    "                \n",
    "                # Plot scalar distribution\n",
    "                if plotting == True:\n",
    "                    if line_configuration == 1:\n",
    "                        ax.plot(df[\"x\"].values, df[\"velocityy\"].values, label=f'{method}; nx = {grid_size}; grid type = {grid_type}; t = {t}', color=line_colors[i_grid_size], linewidth=line_widths[i_grid_type], linestyle=line_styles[i_method])\n",
    "                    else:\n",
    "                        ax.plot(df[\"x\"].values, df[\"velocityy\"].values, label=f'{method}; nx = {grid_size}; grid type = {grid_type}; t = {t}', color=line_colors[i_method], linewidth=line_widths[i_grid_type], linestyle=line_styles[i_grid_size])\n",
    "    return t, df[\"x\"].values, df[\"velocityy\"].values, ds\n",
    "            "
   ]
  },
  {
   "cell_type": "code",
   "execution_count": null,
   "metadata": {
    "scrolled": true
   },
   "outputs": [],
   "source": [
    "error_lists = [[[] for j in range(len(grid_types))] for i in range(len(methods))]\n",
    "df_lists = [[[[] for k in range(len(grid_sizes))] for j in range(len(grid_types))] for i in range(len(methods))]\n",
    "\n",
    "i_method = -1\n",
    "for method in methods:\n",
    "    i_method += 1\n",
    "    i_grid_type = -1\n",
    "    for grid_type in grid_types:\n",
    "        i_grid_type += 1\n",
    "        i_grid_size = -1\n",
    "        for grid_size in grid_sizes:\n",
    "            i_grid_size += 1\n",
    "\n",
    "            case_dir = os.path.join(root_dir, method, grid_type, wave_number,f'nx_{grid_size}')\n",
    "            \n",
    "            # Load plt files\n",
    "            plt_files = natural_sort(glob.glob(os.path.join(case_dir, \"plt*\")))\n",
    "            \n",
    "            for idx in range(len(plt_files)):\n",
    "            \n",
    "                ds = yt.load(plt_files[idx])\n",
    "                ray = ds.r[0:,1,0]\n",
    "                srt = np.argsort(ray[\"x\"])\n",
    "                df = pd.DataFrame({f: np.array(ray[f][srt]) for f in fields})\n",
    "                t = ds.current_time.value.flatten()[0]\n",
    "                df[\"time\"] = t\n",
    "                df[\"dx\"] = [ray.fwidth[i][0].value.flatten()[0] for i in range(len(df[\"x\"].values))]\n",
    "\n",
    "                df_lists[i_method][i_grid_type][i_grid_size].append(df)\n",
    "                \n",
    "            # Plot error\n",
    "            error_file = os.path.join(case_dir,'ctv.log')\n",
    "            with open(error_file) as f:\n",
    "                lines = f.readlines()\n",
    "                time = [float(line.split()[0]) for line in lines[1:]]\n",
    "                u_error = [float(line.split()[1]) for line in lines[1:]]\n",
    "                v_error = [float(line.split()[2]) for line in lines[1:]]\n",
    "            data={'time':time,'u_error':u_error,'v_error':v_error}\n",
    "            error_lists[i_method][i_grid_type].append(pd.DataFrame(data)) \n"
   ]
  },
  {
   "cell_type": "markdown",
   "metadata": {},
   "source": [
    "# Case CTV"
   ]
  },
  {
   "cell_type": "code",
   "execution_count": null,
   "metadata": {},
   "outputs": [],
   "source": [
    "root_dir = '/Users/dbeckers/ctv'"
   ]
  },
  {
   "cell_type": "code",
   "execution_count": null,
   "metadata": {},
   "outputs": [],
   "source": [
    "t_final = 0.5\n",
    "Lx = 2.0\n",
    "u0 = 1.0\n",
    "v0 = 0.0\n",
    "alpha = 8*math.pi\n",
    "beta = 8*math.pi\n",
    "A = 1/(8*math.pi)\n",
    "nu = 0.001"
   ]
  },
  {
   "cell_type": "code",
   "execution_count": null,
   "metadata": {
    "scrolled": true
   },
   "outputs": [],
   "source": [
    "plt.rcParams[\"animation.html\"] = \"jshtml\"\n",
    "_,_,_,ds = postprocess_dist('8pi',-1,root_dir,['godunov_weno_z'],['uniform'],[128],\n",
    "                 _,linestyle_list,color_list,[1.0],False,2)\n",
    "sliceplot = yt.SlicePlot(ds, \"z\", (\"velocityy\"))\n",
    "sliceplot.set_zlim((\"velocityy\"), -1, 1)\n",
    "# sliceplot.set_log((\"velocityy\"), True, symlog_auto=True)\n",
    "fig = sliceplot.plots[(\"velocityy\")].figure\n",
    "ax = sliceplot.plots[(\"velocityy\")].axes\n",
    "\n",
    "def animate(i):\n",
    "    _,_,_,ds = postprocess_dist('8pi',i,root_dir,['godunov_weno_z'],['uniform'],[128],\n",
    "                 ax,linestyle_list,color_list,[1.0],False,2)\n",
    "    sliceplot._switch_ds(ds)\n",
    "    return \n",
    "\n",
    "# FuncAnimation(fig, animate, frames=len(plt_files), interval=200)\n",
    "anim = FuncAnimation(fig, animate, frames=9, interval=200)\n",
    "anim.save('2-ctv_case.gif')"
   ]
  },
  {
   "cell_type": "markdown",
   "metadata": {},
   "source": [
    "# Fine-to-coarse grid "
   ]
  },
  {
   "cell_type": "markdown",
   "metadata": {},
   "source": [
    "### Initial timestep"
   ]
  },
  {
   "cell_type": "code",
   "execution_count": null,
   "metadata": {},
   "outputs": [],
   "source": [
    "lw_exact = 0.5\n",
    "ls_exact = 'dashed'"
   ]
  },
  {
   "cell_type": "code",
   "execution_count": null,
   "metadata": {},
   "outputs": [],
   "source": [
    "_,_,_,ds = postprocess_dist('8pi',0,root_dir,['godunov_weno_z'],['uniform'],[128],\n",
    "                 _,linestyle_list,color_list,[1.0],False,2)\n",
    "sliceplot = yt.SlicePlot(ds, \"z\", (\"velocityy\"))\n",
    "sliceplot.set_zlim((\"velocityy\"), -1, 1)\n",
    "# sliceplot.set_log((\"velocityy\"), True, symlog_auto=True)\n",
    "fig = sliceplot.plots[(\"velocityy\")].figure\n",
    "ax = sliceplot.plots[(\"velocityy\")].axes\n",
    "ax.axhline(0,0,1,color=\"red\",linewidth=3)\n",
    "# fig.savefig('11a-ctv_uniform_final_godunov_ppm_initial_slice.png')"
   ]
  },
  {
   "cell_type": "code",
   "execution_count": null,
   "metadata": {},
   "outputs": [],
   "source": [
    "fig, ax = plt.subplots(figsize=(10, 6))\n",
    "\n",
    "x_exact = np.linspace(0, 2, num=1000)\n",
    "v_exact = [VExact(x_i,1.0,0.0,u0,v0,alpha,beta,A,nu) for x_i in x_exact]\n",
    "ax.plot(x_exact,v_exact,color='black',label='exact solution',linewidth=lw_exact,linestyle=ls_exact)\n",
    "\n",
    "t,_,_,_ = postprocess_dist('8pi',0,root_dir,['godunov_ppm'],['uniform'],[128],\n",
    "                 ax,linestyle_list,color_list,[1.0],True,2)\n",
    "\n",
    "ax.legend(loc='upper left')\n",
    "ax.set_xlim([0,2])\n",
    "ax.set_ylim([-1.0,1.3])\n",
    "ax.set_xlabel('x')\n",
    "ax.set_ylabel('v')\n",
    "\n",
    "# fig.savefig('12a-ctv_uniform_final_godunov_ppm_initial.png')"
   ]
  },
  {
   "cell_type": "markdown",
   "metadata": {},
   "source": [
    "### Animated to show dissipation"
   ]
  },
  {
   "cell_type": "code",
   "execution_count": null,
   "metadata": {
    "scrolled": true
   },
   "outputs": [],
   "source": [
    "plt.rcParams[\"animation.html\"] = \"jshtml\"\n",
    "_,_,_,ds = postprocess_dist('8pi',-1,root_dir,['godunov_ppm'],['uniform'],[128],\n",
    "                 _,linestyle_list,color_list,[1.0],False,2)\n",
    "sliceplot = yt.SlicePlot(ds, \"z\", (\"velocityy\"))\n",
    "sliceplot.set_zlim((\"velocityy\"), -1, 1)\n",
    "# sliceplot.set_log((\"velocityy\"), True, symlog_auto=True)\n",
    "fig = sliceplot.plots[(\"velocityy\")].figure\n",
    "ax = sliceplot.plots[(\"velocityy\")].axes\n",
    "ax.axhline(0,0,1,color=\"red\",linewidth=3)\n",
    "\n",
    "def animate(i):\n",
    "    _,_,_,ds = postprocess_dist('8pi',i,root_dir,['godunov_ppm'],['uniform'],[128],\n",
    "                 ax,linestyle_list,color_list,[1.0],False,2)\n",
    "    sliceplot._switch_ds(ds)\n",
    "    ax.axhline(0,0,1,color=\"red\",linewidth=3)\n",
    "\n",
    "    return \n",
    "\n",
    "# FuncAnimation(fig, animate, frames=len(plt_files), interval=200)\n",
    "anim = FuncAnimation(fig, animate, frames=9, interval=200)\n",
    "anim.save('11b-ctv_uniform_final_godunov_ppm_initial_slice.gif')"
   ]
  },
  {
   "cell_type": "code",
   "execution_count": null,
   "metadata": {},
   "outputs": [],
   "source": [
    "plt.rcParams[\"animation.html\"] = \"jshtml\"\n",
    "\n",
    "fig = plt.figure()\n",
    "ax = plt.axes(xlim=(0, 2), ylim=(-1, 1))\n",
    "line, = ax.plot([], [], color=color_list[0])\n",
    "\n",
    "def init():\n",
    "    line.set_data([], [])\n",
    "    return line,\n",
    "def animate(i):\n",
    "    _,x,y,_ = postprocess_dist('8pi',i,root_dir,['godunov_ppm'],['uniform'],[128],\n",
    "                 ax,linestyle_list,color_list,[1.0],False,2)\n",
    "    line.set_data(x, y)\n",
    "    return line,\n",
    "\n",
    "FuncAnimation(fig, animate, init_func=init, frames=9, interval=200, blit=True)\n",
    "anim.save('12b-ctv_uniform_final_godunov_ppm_initial.gif')"
   ]
  },
  {
   "cell_type": "markdown",
   "metadata": {},
   "source": [
    "### Compare methods at final timestep"
   ]
  },
  {
   "cell_type": "code",
   "execution_count": null,
   "metadata": {},
   "outputs": [],
   "source": [
    "_,_,_,ds = postprocess_dist('8pi',-1,root_dir,['godunov_weno_z'],['uniform'],[128],\n",
    "                 _,linestyle_list,color_list,[1.0],False,2)\n",
    "sliceplot = yt.SlicePlot(ds, \"z\", (\"velocityy\"))\n",
    "sliceplot.set_zlim((\"velocityy\"), -1, 1)\n",
    "# sliceplot.set_log((\"velocityy\"), True, symlog_auto=True)\n",
    "fig = sliceplot.plots[(\"velocityy\")].figure\n",
    "ax = sliceplot.plots[(\"velocityy\")].axes\n",
    "ax.axhline(0,0,1,color=\"red\",linewidth=3)\n",
    "fig.savefig('11c-ctv_uniform_final_godunov_weno_z_final_slice.png')\n",
    "fig"
   ]
  },
  {
   "cell_type": "code",
   "execution_count": null,
   "metadata": {},
   "outputs": [],
   "source": [
    "fig, ax = plt.subplots(figsize=(10, 6))\n",
    "\n",
    "x_exact = np.linspace(0, 2, num=1000)\n",
    "v_exact = [VExact(x_i,1.0,0.5,u0,v0,alpha,beta,A,nu) for x_i in x_exact]\n",
    "ax.plot(x_exact,v_exact,color='black',label='exact solution',linewidth=lw_exact,linestyle=ls_exact)\n",
    "\n",
    "t,_,_,_ = postprocess_dist('8pi',-1,root_dir,['godunov_ppm','godunov_weno_z','mol_central'],['uniform'],[128],\n",
    "                 ax,linestyle_list,color_list,[1.0],True,2)\n",
    "\n",
    "ax.legend(loc='upper left')\n",
    "ax.set_xlim([0,2])\n",
    "ax.set_ylim([-1.0,1.3])\n",
    "ax.set_xlabel('x')\n",
    "ax.set_ylabel('v')\n",
    "\n",
    "fig.savefig('12c-ctv_uniform_final_godunov_ppm_weno_z_mol_central.png')\n",
    "fig"
   ]
  },
  {
   "cell_type": "markdown",
   "metadata": {},
   "source": [
    "### Zoom"
   ]
  },
  {
   "cell_type": "code",
   "execution_count": null,
   "metadata": {},
   "outputs": [],
   "source": [
    "_,_,_,ds = postprocess_dist('8pi',-1,root_dir,['godunov_weno_z'],['uniform'],[128],\n",
    "                 _,linestyle_list,color_list,[1.0],False,2)\n",
    "sliceplot = yt.SlicePlot(ds, \"z\", (\"velocityy\"))\n",
    "sliceplot.set_zlim((\"velocityy\"), -1, 1)\n",
    "# sliceplot.set_log((\"velocityy\"), True, symlog_auto=True)\n",
    "fig = sliceplot.plots[(\"velocityy\")].figure\n",
    "ax = sliceplot.plots[(\"velocityy\")].axes\n",
    "ax.axhline(0,0.5,0.625,color=\"red\",linewidth=3)\n",
    "fig.savefig('11d-ctv_uniform_final_godunov_weno_z_final_slice_zoom.png')\n",
    "fig"
   ]
  },
  {
   "cell_type": "code",
   "execution_count": null,
   "metadata": {
    "scrolled": false
   },
   "outputs": [],
   "source": [
    "fig, ax = plt.subplots(figsize=(10, 6))\n",
    "\n",
    "x_exact = np.linspace(0, 2, num=1000)\n",
    "v_exact = [VExact(x_i,1.0,0.5,u0,v0,alpha,beta,A,nu) for x_i in x_exact]\n",
    "ax.plot(x_exact,v_exact,color='black',label='exact solution',linewidth=lw_exact,linestyle=ls_exact)\n",
    "\n",
    "t,_,_,_ = postprocess_dist('8pi',-1,root_dir,['godunov_ppm','godunov_weno_z','mol_central'],['uniform'],[128],\n",
    "                 ax,linestyle_list,color_list,[1.0],True,2)\n",
    "\n",
    "ax.legend(loc='upper left')\n",
    "ax.set_xlim([1,1.25])\n",
    "ax.set_ylim([-1.0,1.3])\n",
    "ax.set_xlabel('x')\n",
    "ax.set_ylabel('v')\n",
    "\n",
    "fig.savefig('12d-ctv_uniform_final_godunov_ppm_weno_z_mol_central_zoom.png')\n",
    "fig"
   ]
  },
  {
   "cell_type": "markdown",
   "metadata": {},
   "source": [
    "### Refined"
   ]
  },
  {
   "cell_type": "code",
   "execution_count": null,
   "metadata": {},
   "outputs": [],
   "source": [
    "_,_,_,ds = postprocess_dist('8pi',-1,root_dir,['godunov_weno_z'],['fine_to_coarse'],[64],\n",
    "                 _,linestyle_list,color_list,[1.0],False,2)\n",
    "sliceplot = yt.SlicePlot(ds, \"z\", (\"velocityy\"))\n",
    "sliceplot.set_zlim((\"velocityy\"), -1, 1)\n",
    "# sliceplot.set_log((\"velocityy\"), True, symlog_auto=True)\n",
    "fig = sliceplot.plots[(\"velocityy\")].figure\n",
    "ax = sliceplot.plots[(\"velocityy\")].axes\n",
    "ax.axhline(0,0,1,color=\"red\",linewidth=3)\n",
    "fig.savefig('13a-ctv_refined_final_godunov_weno_z_slice.png')\n",
    "fig"
   ]
  },
  {
   "cell_type": "code",
   "execution_count": null,
   "metadata": {},
   "outputs": [],
   "source": [
    "fig, ax = plt.subplots(figsize=(10, 6))\n",
    "\n",
    "x_exact = np.linspace(0, 2, num=1000)\n",
    "v_exact = [VExact(x_i,1.0,1.0,u0,v0,alpha,beta,A,nu) for x_i in x_exact]\n",
    "ax.plot(x_exact,v_exact,color='black',label='exact solution',linewidth=lw_exact,linestyle=ls_exact)\n",
    "\n",
    "t,_,_,_ = postprocess_dist('8pi',-1,root_dir,['godunov_ppm','godunov_weno_z','mol_central'],['fine_to_coarse'],[64],\n",
    "                 ax,linestyle_list,color_list,[1.0],True,2)\n",
    "\n",
    "ax.legend(loc='upper left')\n",
    "ax.set_xlim([0,2])\n",
    "ax.set_ylim([-1.0,1.3])\n",
    "ax.set_xlabel('x')\n",
    "ax.set_ylabel('v')\n",
    "\n",
    "fig.savefig('14a-ctv_refined_final_godunov_ppm_weno_z_mol_central.png')\n",
    "fig"
   ]
  },
  {
   "cell_type": "markdown",
   "metadata": {},
   "source": [
    "### Specifically looking at mol central"
   ]
  },
  {
   "cell_type": "code",
   "execution_count": null,
   "metadata": {},
   "outputs": [],
   "source": []
  },
  {
   "cell_type": "code",
   "execution_count": null,
   "metadata": {},
   "outputs": [],
   "source": [
    "plt.rcParams[\"animation.html\"] = \"jshtml\"\n",
    "\n",
    "fig = plt.figure()\n",
    "ax = plt.axes(xlim=(0, 2), ylim=(-1, 1))\n",
    "line, = ax.plot([], [], color=color_list[0])\n",
    "\n",
    "def init():\n",
    "    line.set_data([], [])\n",
    "    return line,\n",
    "def animate(i):\n",
    "    print(i)\n",
    "    _,x,y,_ = postprocess_dist('8pi',i,root_dir,['mol_central'],['fine_to_coarse'],[64],\n",
    "                 ax,linestyle_list,color_list,[1.0],False,2)\n",
    "    line.set_data(x, y)\n",
    "    return line,\n",
    "\n",
    "anim = FuncAnimation(fig, animate, init_func=init, frames=18, interval=200, blit=True)\n",
    "anim.save('14b-ctv_refined_final_mol_central.gif')"
   ]
  },
  {
   "cell_type": "markdown",
   "metadata": {},
   "source": [
    "# Modulate with Gaussian"
   ]
  },
  {
   "cell_type": "markdown",
   "metadata": {},
   "source": [
    "## Viscosity = 1e-3"
   ]
  },
  {
   "cell_type": "code",
   "execution_count": null,
   "metadata": {},
   "outputs": [],
   "source": [
    "_,_,_,ds = postprocess_dist('8pi',0,root_dir,['mol_central'],['fine_to_coarse_modulated'],[64],\n",
    "                 _,linestyle_list,color_list,[1.0],False,2)\n",
    "sliceplot = yt.SlicePlot(ds, \"z\", (\"velocityy\"))\n",
    "sliceplot.set_zlim((\"velocityy\"), -1, 1)\n",
    "# sliceplot.set_log((\"velocityy\"), True, symlog_auto=True)\n",
    "fig = sliceplot.plots[(\"velocityy\")].figure\n",
    "ax = sliceplot.plots[(\"velocityy\")].axes\n",
    "ax.axhline(0,0,1,color=\"red\",linewidth=3)\n",
    "fig.savefig('15a-ctv_refined_modulated_1e-3_final_mol_central_slice_initial.png')\n",
    "fig"
   ]
  },
  {
   "cell_type": "code",
   "execution_count": null,
   "metadata": {},
   "outputs": [],
   "source": [
    "fig, ax = plt.subplots(figsize=(10, 6))\n",
    "\n",
    "x_exact = np.linspace(0, 2, num=1000)\n",
    "v_exact = [VExact(x_i,1.0,1.0,u0,v0,alpha,beta,A,nu) for x_i in x_exact]\n",
    "ax.plot(x_exact,v_exact,color='black',label='exact solution',linewidth=lw_exact,linestyle=ls_exact)\n",
    "\n",
    "t,_,_,_ = postprocess_dist('8pi',0,root_dir,['mol_central'],['fine_to_coarse_modulated'],[64],\n",
    "                 ax,linestyle_list,color_list,[1.0],True,2)\n",
    "\n",
    "ax.legend(loc='upper left')\n",
    "ax.set_xlim([0,2])\n",
    "ax.set_ylim([-1.0,1.3])\n",
    "ax.set_xlabel('x')\n",
    "ax.set_ylabel('v')\n",
    "\n",
    "fig.savefig('16a-ctv_refined_modulated_1e-3_final_mol_central_initial.png')\n",
    "fig"
   ]
  },
  {
   "cell_type": "markdown",
   "metadata": {},
   "source": [
    "#### animated"
   ]
  },
  {
   "cell_type": "code",
   "execution_count": null,
   "metadata": {},
   "outputs": [],
   "source": [
    "plt.rcParams[\"animation.html\"] = \"jshtml\"\n",
    "_,_,_,ds = postprocess_dist('8pi',-1,root_dir,['mol_central'],['fine_to_coarse_modulated'],[128],\n",
    "                 _,linestyle_list,color_list,[1.0],False,2)\n",
    "sliceplot = yt.SlicePlot(ds, \"z\", (\"velocityy\"))\n",
    "sliceplot.set_zlim((\"velocityy\"), -1, 1)\n",
    "# sliceplot.set_log((\"velocityy\"), True, symlog_auto=True)\n",
    "fig = sliceplot.plots[(\"velocityy\")].figure\n",
    "ax = sliceplot.plots[(\"velocityy\")].axes\n",
    "ax.axhline(0,0,1,color=\"red\",linewidth=3)\n",
    "\n",
    "def animate(i):\n",
    "    _,_,_,ds = postprocess_dist('8pi',i,root_dir,['mol_central'],['fine_to_coarse_modulated'],[128],\n",
    "                 ax,linestyle_list,color_list,[1.0],False,2)\n",
    "    sliceplot._switch_ds(ds)\n",
    "    ax.axhline(0,0,1,color=\"red\",linewidth=3)\n",
    "\n",
    "    return \n",
    "\n",
    "# FuncAnimation(fig, animate, frames=len(plt_files), interval=200)\n",
    "anim = FuncAnimation(fig, animate, frames=18, interval=200)\n",
    "anim.save('15b-ctv_refined_modulated_1e-3_final_mol_central_slice.gif')"
   ]
  },
  {
   "cell_type": "code",
   "execution_count": null,
   "metadata": {},
   "outputs": [],
   "source": [
    "plt.rcParams[\"animation.html\"] = \"jshtml\"\n",
    "\n",
    "fig = plt.figure()\n",
    "ax = plt.axes(xlim=(0, 2), ylim=(-1, 1))\n",
    "line, = ax.plot([], [], color=color_list[0])\n",
    "\n",
    "def init():\n",
    "    line.set_data([], [])\n",
    "    return line,\n",
    "def animate(i):\n",
    "    _,x,y,_ = postprocess_dist('8pi',i,root_dir,['mol_central'],['fine_to_coarse_modulated'],[64],\n",
    "                 ax,linestyle_list,color_list,[1.0],False,2)\n",
    "    line.set_data(x, y)\n",
    "    return line,\n",
    "\n",
    "anim = FuncAnimation(fig, animate, init_func=init, frames=18, interval=200, blit=True)\n",
    "anim.save('16b-ctv_refined_modulated_1e-3_final_mol_central.gif')"
   ]
  },
  {
   "cell_type": "markdown",
   "metadata": {},
   "source": [
    "## Viscosity = 1e-4"
   ]
  },
  {
   "cell_type": "code",
   "execution_count": null,
   "metadata": {
    "scrolled": true
   },
   "outputs": [],
   "source": [
    "plt.rcParams[\"animation.html\"] = \"jshtml\"\n",
    "_,_,_,ds = postprocess_dist('8pi_1e-4',-1,root_dir,['mol_central'],['fine_to_coarse_modulated'],[128],\n",
    "                 _,linestyle_list,color_list,[1.0],False,2)\n",
    "sliceplot = yt.SlicePlot(ds, \"z\", (\"velocityy\"))\n",
    "sliceplot.set_zlim((\"velocityy\"), -1, 1)\n",
    "# sliceplot.set_log((\"velocityy\"), True, symlog_auto=True)\n",
    "fig = sliceplot.plots[(\"velocityy\")].figure\n",
    "ax = sliceplot.plots[(\"velocityy\")].axes\n",
    "ax.axhline(0,0,1,color=\"red\",linewidth=3)\n",
    "\n",
    "def animate(i):\n",
    "    _,_,_,ds = postprocess_dist('8pi_1e-4',i,root_dir,['mol_central'],['fine_to_coarse_modulated'],[128],\n",
    "                 ax,linestyle_list,color_list,[1.0],False,2)\n",
    "    sliceplot._switch_ds(ds)\n",
    "    ax.axhline(0,0,1,color=\"red\",linewidth=3)\n",
    "\n",
    "    return \n",
    "\n",
    "# FuncAnimation(fig, animate, frames=len(plt_files), interval=200)\n",
    "anim = FuncAnimation(fig, animate, frames=18, interval=200)\n",
    "anim.save('15c-ctv_refined_modulated_1e-4_final_mol_central_slice.gif')"
   ]
  },
  {
   "cell_type": "code",
   "execution_count": null,
   "metadata": {},
   "outputs": [],
   "source": [
    "plt.rcParams[\"animation.html\"] = \"jshtml\"\n",
    "\n",
    "fig = plt.figure()\n",
    "ax = plt.axes(xlim=(0, 2), ylim=(-1, 1))\n",
    "line, = ax.plot([], [], color=color_list[0])\n",
    "\n",
    "def init():\n",
    "    line.set_data([], [])\n",
    "    return line,\n",
    "def animate(i):\n",
    "    print(i)\n",
    "    _,x,y,_ = postprocess_dist('8pi_1e-4',i,root_dir,['mol_central'],['fine_to_coarse_modulated'],[64],\n",
    "                 ax,linestyle_list,color_list,[1.0],False,2)\n",
    "    line.set_data(x, y)\n",
    "    return line,\n",
    "\n",
    "anim = FuncAnimation(fig, animate, init_func=init, frames=18, interval=200, blit=True)\n",
    "anim.save('16c-ctv_refined_modulated_1e-4_final_mol_central.gif')"
   ]
  },
  {
   "cell_type": "code",
   "execution_count": null,
   "metadata": {},
   "outputs": [],
   "source": []
  },
  {
   "cell_type": "code",
   "execution_count": null,
   "metadata": {},
   "outputs": [],
   "source": []
  },
  {
   "cell_type": "code",
   "execution_count": null,
   "metadata": {},
   "outputs": [],
   "source": []
  },
  {
   "cell_type": "code",
   "execution_count": null,
   "metadata": {},
   "outputs": [],
   "source": []
  },
  {
   "cell_type": "code",
   "execution_count": null,
   "metadata": {},
   "outputs": [],
   "source": []
  },
  {
   "cell_type": "code",
   "execution_count": null,
   "metadata": {},
   "outputs": [],
   "source": []
  },
  {
   "cell_type": "code",
   "execution_count": null,
   "metadata": {},
   "outputs": [],
   "source": []
  },
  {
   "cell_type": "code",
   "execution_count": null,
   "metadata": {},
   "outputs": [],
   "source": []
  },
  {
   "cell_type": "code",
   "execution_count": null,
   "metadata": {},
   "outputs": [],
   "source": [
    "anim"
   ]
  },
  {
   "cell_type": "code",
   "execution_count": null,
   "metadata": {},
   "outputs": [],
   "source": [
    "sliceplot = yt.SlicePlot(ds, \"z\", (\"velocityy\"))\n",
    "fig = sliceplot.plots[(\"velocityy\")].figure\n",
    "ax = sliceplot.plots[(\"velocityy\")].axes\n",
    "ax.axhline(0,0,1,color=\"red\",linewidth=3)"
   ]
  },
  {
   "cell_type": "code",
   "execution_count": null,
   "metadata": {},
   "outputs": [],
   "source": [
    "fig"
   ]
  },
  {
   "cell_type": "code",
   "execution_count": null,
   "metadata": {},
   "outputs": [],
   "source": []
  }
 ],
 "metadata": {
  "kernelspec": {
   "display_name": "postprocessing",
   "language": "python",
   "name": "postprocessing"
  },
  "language_info": {
   "codemirror_mode": {
    "name": "ipython",
    "version": 3
   },
   "file_extension": ".py",
   "mimetype": "text/x-python",
   "name": "python",
   "nbconvert_exporter": "python",
   "pygments_lexer": "ipython3",
   "version": "3.10.5"
  }
 },
 "nbformat": 4,
 "nbformat_minor": 2
}
